{
 "cells": [
  {
   "cell_type": "code",
   "execution_count": 1,
   "metadata": {},
   "outputs": [],
   "source": [
    "import pandas as pd\n",
    "import numpy as np\n",
    "import collections\n",
    "import sys\n",
    "from sklearn.linear_model import LogisticRegression\n",
    "import matplotlib.pyplot as plt\n",
    "from sklearn.utils import shuffle\n",
    "from sklearn import linear_model\n",
    "from sklearn import svm\n",
    "from sklearn.svm import SVC\n",
    "from sklearn import tree\n",
    "from sklearn.model_selection import train_test_split\n",
    "from sklearn.model_selection import GridSearchCV\n",
    "from sklearn.neighbors import KNeighborsClassifier\n",
    "from sklearn.ensemble import RandomForestClassifier\n",
    "from sklearn.ensemble import AdaBoostClassifier\n",
    "from sklearn.ensemble import GradientBoostingClassifier\n",
    "from sklearn.ensemble import GradientBoostingRegressor\n",
    "import csv\n",
    "%matplotlib inline"
   ]
  },
  {
   "cell_type": "code",
   "execution_count": 2,
   "metadata": {},
   "outputs": [
    {
     "data": {
      "text/html": [
       "<div>\n",
       "<table border=\"1\" class=\"dataframe\">\n",
       "  <thead>\n",
       "    <tr style=\"text-align: right;\">\n",
       "      <th></th>\n",
       "      <th>TeamID</th>\n",
       "      <th>TeamName</th>\n",
       "      <th>FirstD1Season</th>\n",
       "      <th>LastD1Season</th>\n",
       "    </tr>\n",
       "  </thead>\n",
       "  <tbody>\n",
       "    <tr>\n",
       "      <th>0</th>\n",
       "      <td>1101</td>\n",
       "      <td>Abilene Chr</td>\n",
       "      <td>2014</td>\n",
       "      <td>2018</td>\n",
       "    </tr>\n",
       "    <tr>\n",
       "      <th>1</th>\n",
       "      <td>1102</td>\n",
       "      <td>Air Force</td>\n",
       "      <td>1985</td>\n",
       "      <td>2018</td>\n",
       "    </tr>\n",
       "    <tr>\n",
       "      <th>2</th>\n",
       "      <td>1103</td>\n",
       "      <td>Akron</td>\n",
       "      <td>1985</td>\n",
       "      <td>2018</td>\n",
       "    </tr>\n",
       "    <tr>\n",
       "      <th>3</th>\n",
       "      <td>1104</td>\n",
       "      <td>Alabama</td>\n",
       "      <td>1985</td>\n",
       "      <td>2018</td>\n",
       "    </tr>\n",
       "    <tr>\n",
       "      <th>4</th>\n",
       "      <td>1105</td>\n",
       "      <td>Alabama A&amp;M</td>\n",
       "      <td>2000</td>\n",
       "      <td>2018</td>\n",
       "    </tr>\n",
       "  </tbody>\n",
       "</table>\n",
       "</div>"
      ],
      "text/plain": [
       "   TeamID     TeamName  FirstD1Season  LastD1Season\n",
       "0    1101  Abilene Chr           2014          2018\n",
       "1    1102    Air Force           1985          2018\n",
       "2    1103        Akron           1985          2018\n",
       "3    1104      Alabama           1985          2018\n",
       "4    1105  Alabama A&M           2000          2018"
      ]
     },
     "execution_count": 2,
     "metadata": {},
     "output_type": "execute_result"
    }
   ],
   "source": [
    "## Read in dataframes \n",
    "data_dir = './DataFiles_2018/'\n",
    "# This file provides a master list of cities that have been locations for games played.\n",
    "df_cities = pd.read_csv(data_dir + 'Cities.csv')\n",
    "df_conferences = pd.read_csv(data_dir + 'Conferences.csv')\n",
    "df_conferencetourney = pd.read_csv(data_dir + 'ConferenceTourneyGames.csv')\n",
    "df_gamecities = pd.read_csv(data_dir + 'GameCities.csv')\n",
    "df_tourneycompact = pd.read_csv(data_dir + 'NCAATourneyCompactResults.csv')\n",
    "df_tourneydetailed = pd.read_csv(data_dir + 'NCAATourneyDetailedResults.csv')\n",
    "df_tourneyseedroundslots = pd.read_csv(data_dir + 'NCAATourneySeedRoundSlots.csv')\n",
    "df_tourneyseeds = pd.read_csv(data_dir + 'NCAATourneySeeds.csv')\n",
    "df_tourneyslots = pd.read_csv(data_dir + 'NCAATourneySlots.csv')\n",
    "df_seasoncompact = pd.read_csv(data_dir + 'RegularSeasonCompactResults.csv')\n",
    "df_seasondetailed = pd.read_csv(data_dir + 'RegularSeasonDetailedResults.csv')\n",
    "df_seasons = pd.read_csv(data_dir + 'Seasons.csv')\n",
    "df_secondtourneycompact = pd.read_csv(data_dir + 'SecondaryTourneyCompactResults.csv')\n",
    "df_coaches = pd.read_csv(data_dir + 'TeamCoaches.csv')\n",
    "df_teamconferences = pd.read_csv(data_dir + 'TeamConferences.csv')\n",
    "df_teams = pd.read_csv(data_dir + 'Teams.csv')\n",
    "#df_teamspellings = pd.read_csv(data_dir + 'TeamSpellings.csv') #utf-8 encoding issue\n",
    "df_ordinals = pd.read_csv('MasseyOrdinals_thruSeason2018_Day128.csv')\n",
    "\n",
    "df_teams.head()"
   ]
  },
  {
   "cell_type": "code",
   "execution_count": 3,
   "metadata": {},
   "outputs": [],
   "source": [
    "def handleDifferentCSV(df):\n",
    "    # The stats CSV is a lit different in terms of naming so below is just some data cleaning\n",
    "    df['School'] = df['School'].replace('(State)', 'St', regex=True) \n",
    "    df['School'] = df['School'].replace('Albany (NY)', 'Albany NY') \n",
    "    df['School'] = df['School'].replace('Boston University', 'Boston Univ')\n",
    "    df['School'] = df['School'].replace('Central Michigan', 'C Michigan')\n",
    "    df['School'] = df['School'].replace('(Eastern)', 'E', regex=True)\n",
    "    df['School'] = df['School'].replace('Louisiana St', 'LSU')\n",
    "    df['School'] = df['School'].replace('North Carolina St', 'NC State')\n",
    "    df['School'] = df['School'].replace('Southern California', 'USC')\n",
    "    df['School'] = df['School'].replace('University of California', 'California', regex=True) \n",
    "    df['School'] = df['School'].replace('American', 'American Univ')\n",
    "    df['School'] = df['School'].replace('Arkansas-Little Rock', 'Ark Little Rock')\n",
    "    df['School'] = df['School'].replace('Arkansas-Pine Bluff', 'Ark Pine Bluff')\n",
    "    df['School'] = df['School'].replace('Bowling Green St', 'Bowling Green')\n",
    "    df['School'] = df['School'].replace('Brigham Young', 'BYU')\n",
    "    df['School'] = df['School'].replace('Cal Poly', 'Cal Poly SLO')\n",
    "    df['School'] = df['School'].replace('Centenary (LA)', 'Centenary')\n",
    "    df['School'] = df['School'].replace('Central Connecticut St', 'Central Conn')\n",
    "    df['School'] = df['School'].replace('Charleston Southern', 'Charleston So')\n",
    "    df['School'] = df['School'].replace('Coastal Carolina', 'Coastal Car')\n",
    "    df['School'] = df['School'].replace('College of Charleston', 'Col Charleston')\n",
    "    df['School'] = df['School'].replace('Cal St Fullerton', 'CS Fullerton')\n",
    "    df['School'] = df['School'].replace('Cal St Sacramento', 'CS Sacramento')\n",
    "    df['School'] = df['School'].replace('Cal St Bakersfield', 'CS Bakersfield')\n",
    "    df['School'] = df['School'].replace('Cal St Northridge', 'CS Northridge')\n",
    "    df['School'] = df['School'].replace('East Tennessee St', 'ETSU')\n",
    "    df['School'] = df['School'].replace('Detroit Mercy', 'Detroit')\n",
    "    df['School'] = df['School'].replace('Fairleigh Dickinson', 'F Dickinson')\n",
    "    df['School'] = df['School'].replace('Florida Atlantic', 'FL Atlantic')\n",
    "    df['School'] = df['School'].replace('Florida Gulf Coast', 'FL Gulf Coast')\n",
    "    df['School'] = df['School'].replace('Florida International', 'Florida Intl')\n",
    "    df['School'] = df['School'].replace('George Washington', 'G Washington')\n",
    "    df['School'] = df['School'].replace('Georgia Southern', 'Ga Southern')\n",
    "    df['School'] = df['School'].replace('Gardner-Webb', 'Gardner Webb')\n",
    "    df['School'] = df['School'].replace('Illinois-Chicago', 'IL Chicago')\n",
    "    df['School'] = df['School'].replace('Kent St', 'Kent')\n",
    "    df['School'] = df['School'].replace('Long Island University', 'Long Island')\n",
    "    df['School'] = df['School'].replace('Loyola Marymount', 'Loy Marymount')\n",
    "    df['School'] = df['School'].replace('Loyola (MD)', 'Loyola MD')\n",
    "    df['School'] = df['School'].replace('Loyola (IL)', 'Loyola-Chicago')\n",
    "    df['School'] = df['School'].replace('Massachusetts', 'MA Lowell')\n",
    "    df['School'] = df['School'].replace('Maryland-Eastern Shore', 'MD E Shore')\n",
    "    df['School'] = df['School'].replace('Miami (FL)', 'Miami FL')\n",
    "    df['School'] = df['School'].replace('Miami (OH)', 'Miami OH')\n",
    "    df['School'] = df['School'].replace('Missouri-Kansas City', 'Missouri KC')\n",
    "    df['School'] = df['School'].replace('Monmouth', 'Monmouth NJ')\n",
    "    df['School'] = df['School'].replace('Mississippi Valley St', 'MS Valley St')\n",
    "    df['School'] = df['School'].replace('Montana St', 'MTSU')\n",
    "    df['School'] = df['School'].replace('Northern Colorado', 'N Colorado')\n",
    "    df['School'] = df['School'].replace('North Dakota St', 'N Dakota St')\n",
    "    df['School'] = df['School'].replace('Northern Illinois', 'N Illinois')\n",
    "    df['School'] = df['School'].replace('Northern Kentucky', 'N Kentucky')\n",
    "    df['School'] = df['School'].replace('North Carolina A&T', 'NC A&T')\n",
    "    df['School'] = df['School'].replace('North Carolina Central', 'NC Central')\n",
    "    df['School'] = df['School'].replace('Pennsylvania', 'Penn')\n",
    "    df['School'] = df['School'].replace('South Carolina St', 'S Carolina St')\n",
    "    df['School'] = df['School'].replace('Southern Illinois', 'S Illinois')\n",
    "    df['School'] = df['School'].replace('UC-Santa Barbara', 'Santa Barbara')\n",
    "    df['School'] = df['School'].replace('Southeastern Louisiana', 'SE Louisiana')\n",
    "    df['School'] = df['School'].replace('Southeast Missouri St', 'SE Missouri St')\n",
    "    df['School'] = df['School'].replace('Stephen F. Austin', 'SF Austin')\n",
    "    df['School'] = df['School'].replace('Southern Methodist', 'SMU')\n",
    "    df['School'] = df['School'].replace('Southern Mississippi', 'Southern Miss')\n",
    "    df['School'] = df['School'].replace('Southern', 'Southern Univ')\n",
    "    df['School'] = df['School'].replace('St. Bonaventure', 'St Bonaventure')\n",
    "    df['School'] = df['School'].replace('St. Francis (NY)', 'St Francis NY')\n",
    "    df['School'] = df['School'].replace('Saint Francis (PA)', 'St Francis PA')\n",
    "    df['School'] = df['School'].replace('St. John\\'s (NY)', 'St John\\'s')\n",
    "    df['School'] = df['School'].replace('Saint Joseph\\'s', 'St Joseph\\'s PA')\n",
    "    df['School'] = df['School'].replace('Saint Louis', 'St Louis')\n",
    "    df['School'] = df['School'].replace('Saint Mary\\'s (CA)', 'St Mary\\'s CA')\n",
    "    df['School'] = df['School'].replace('Mount Saint Mary\\'s', 'Mt St Mary\\'s')\n",
    "    df['School'] = df['School'].replace('Saint Peter\\'s', 'St Peter\\'s')\n",
    "    df['School'] = df['School'].replace('Texas A&M-Corpus Christian', 'TAM C. Christian')\n",
    "    df['School'] = df['School'].replace('Texas Christian', 'TCU')\n",
    "    df['School'] = df['School'].replace('Tennessee-Martin', 'TN Martin')\n",
    "    df['School'] = df['School'].replace('Texas-Rio Grande Valley', 'UTRGV')\n",
    "    df['School'] = df['School'].replace('Texas Southern', 'TX Southern')\n",
    "    df['School'] = df['School'].replace('Alabama-Birmingham', 'UAB')\n",
    "    df['School'] = df['School'].replace('UC-Davis', 'UC Davis')\n",
    "    df['School'] = df['School'].replace('UC-Irvine', 'UC Irvine')\n",
    "    df['School'] = df['School'].replace('UC-Riverside', 'UC Riverside')\n",
    "    df['School'] = df['School'].replace('Central Florida', 'UCF')\n",
    "    df['School'] = df['School'].replace('Louisiana-Lafayette', 'ULL')\n",
    "    df['School'] = df['School'].replace('Louisiana-Monroe', 'ULM')\n",
    "    df['School'] = df['School'].replace('Maryland-Baltimore County', 'UMBC')\n",
    "    df['School'] = df['School'].replace('North Carolina-Asheville', 'UNC Asheville')\n",
    "    df['School'] = df['School'].replace('North Carolina-Greensboro', 'UNC Greensboro')\n",
    "    df['School'] = df['School'].replace('North Carolina-Wilmington', 'UNC Wilmington')\n",
    "    df['School'] = df['School'].replace('Nevada-Las Vegas', 'UNLV')\n",
    "    df['School'] = df['School'].replace('Texas-Arlington', 'UT Arlington')\n",
    "    df['School'] = df['School'].replace('Texas-San Antonio', 'UT San Antonio')\n",
    "    df['School'] = df['School'].replace('Texas-El Paso', 'UTEP')\n",
    "    df['School'] = df['School'].replace('Virginia Commonwealth', 'VA Commonwealth')\n",
    "    df['School'] = df['School'].replace('Western Carolina', 'W Carolina')\n",
    "    df['School'] = df['School'].replace('Western Illinois', 'W Illinois')\n",
    "    df['School'] = df['School'].replace('Western Kentucky', 'WKU')\n",
    "    df['School'] = df['School'].replace('Western Michigan', 'W Michigan')\n",
    "    df['School'] = df['School'].replace('Abilene Christian', 'Abilene Chr')\n",
    "    df['School'] = df['School'].replace('Montana State', 'Montana St')\n",
    "    df['School'] = df['School'].replace('Central Arkansas', 'Cent Arkansas')\n",
    "    df['School'] = df['School'].replace('Houston Baptist', 'Houston Bap')\n",
    "    df['School'] = df['School'].replace('South Dakota St', 'S Dakota St')\n",
    "    df['School'] = df['School'].replace('Maryland-Eastern Shore', 'MD E Shore')\n",
    "    return df"
   ]
  },
  {
   "cell_type": "code",
   "execution_count": 4,
   "metadata": {},
   "outputs": [
    {
     "data": {
      "text/plain": [
       "'Fordham'"
      ]
     },
     "execution_count": 4,
     "metadata": {},
     "output_type": "execute_result"
    }
   ],
   "source": [
    "def getTeamName(team_id):\n",
    "    return df_teams[df_teams['TeamID'] == team_id].values[0][1]\n",
    "getTeamName(1200)"
   ]
  },
  {
   "cell_type": "code",
   "execution_count": 5,
   "metadata": {},
   "outputs": [],
   "source": [
    "#df_ordinals['SystemName'].value_counts()"
   ]
  },
  {
   "cell_type": "code",
   "execution_count": 6,
   "metadata": {},
   "outputs": [
    {
     "data": {
      "text/plain": [
       "8.5"
      ]
     },
     "execution_count": 6,
     "metadata": {},
     "output_type": "execute_result"
    }
   ],
   "source": [
    "df_team_year = df_ordinals[(df_ordinals['Season']==2016) & (df_ordinals['TeamID']==1246)]\n",
    "sag_ranks = df_team_year[df_team_year['SystemName']=='POM']['OrdinalRank']\n",
    "np.average(sag_ranks[-4:])"
   ]
  },
  {
   "cell_type": "code",
   "execution_count": 23,
   "metadata": {},
   "outputs": [],
   "source": [
    "def getSeasonData(team_id, year):\n",
    "    # Getting ordinal data\n",
    "    df_ordinalyearteam = df_ordinals[(df_ordinals['Season']==year) & (df_ordinals['TeamID']==team_id)]\n",
    "    \n",
    "    # The data frame below holds stats for every single game in the given year\n",
    "    df_year = df_seasondetailed[df_seasondetailed['Season'] == year]\n",
    "    \n",
    "    df_stats_SOS = pd.read_csv('./RegSeasonStats/MMStats_'+str(year)+'.csv')\n",
    "    df_stats_SOS = handleDifferentCSV(df_stats_SOS)\n",
    "    df_ratings = pd.read_csv('./RatingStats/RatingStats_'+str(year)+'.csv')\n",
    "    df_ratings = handleDifferentCSV(df_ratings)\n",
    "    \n",
    "    name = getTeamName(team_id)\n",
    "    team = df_stats_SOS[df_stats_SOS['School'] == name]\n",
    "    team_rating = df_ratings[df_ratings['School'] == name]\n",
    "    \n",
    "    \n",
    "    # Finding number of points per game\n",
    "    gamesWon = df_year[df_year.WTeamID == team_id] \n",
    "    totalPoints = gamesWon['WScore'].sum()\n",
    "    gamesLost = df_year[df_year.LTeamID == team_id] \n",
    "    totalGames = gamesWon.append(gamesLost)\n",
    "    numGames = len(totalGames.index)\n",
    "    totalPoints += gamesLost['LScore'].sum()\n",
    "    \n",
    "    # Finding number of points per game allowed\n",
    "    totalPointsAllowed = gamesWon['LScore'].sum()\n",
    "    totalPointsAllowed += gamesLost['WScore'].sum()\n",
    "    \n",
    "    #FGM - field goals made\n",
    "    totalFGM = gamesWon['WFGM'].sum()\n",
    "    totalFGM += gamesLost['LFGM'].sum()\n",
    "    \n",
    "    #FGM - field goals made (by opponent)\n",
    "    totalOppFGM = gamesWon['LFGM'].sum()\n",
    "    totalOppFGM += gamesLost['WFGM'].sum()\n",
    "    \n",
    "    #FGA - field goals attempted\n",
    "    totalFGA = gamesWon['WFGA'].sum()\n",
    "    totalFGA += gamesLost['LFGA'].sum()\n",
    "    \n",
    "    #FGA - field goals attempted (by opponent)\n",
    "    totalOppFGA = gamesWon['LFGA'].sum()\n",
    "    totalOppFGA += gamesLost['WFGA'].sum()\n",
    "    \n",
    "    #FGM3 - three pointers made\n",
    "    totalFGM3 = gamesWon['WFGM3'].sum()\n",
    "    totalFGM3 += gamesLost['LFGM3'].sum()\n",
    "    \n",
    "    #FGM3 - three pointers made (by opponent)\n",
    "    totalOppFGM3 = gamesWon['LFGM3'].sum()\n",
    "    totalOppFGM3 += gamesLost['WFGM3'].sum()\n",
    "    \n",
    "    #FGA3 - three pointers attempted\n",
    "    totalFGA3 = gamesWon['WFGA3'].sum()\n",
    "    totalFGA3 += gamesLost['LFGA3'].sum()\n",
    "    \n",
    "    #FGA3 - three pointers attempted (by opponent)\n",
    "    totalOppFGA3 = gamesWon['LFGA3'].sum()\n",
    "    totalOppFGA3 += gamesLost['WFGA3'].sum()\n",
    "    \n",
    "    #FTM - free throws made\n",
    "    totalFTM = gamesWon['WFTM'].sum()\n",
    "    totalFTM += gamesLost['LFTM'].sum()\n",
    "    \n",
    "    #FTM - free throws made (by opponent)\n",
    "    totalOppFTM = gamesWon['LFTM'].sum()\n",
    "    totalOppFTM += gamesLost['WFTM'].sum()\n",
    "    \n",
    "    #FTA - free throws attempted\n",
    "    totalFTA = gamesWon['WFTA'].sum()\n",
    "    totalFTA += gamesLost['LFTA'].sum()\n",
    "    \n",
    "    #FTA - free throws attempted (by opponent)\n",
    "    totalOppFTA = gamesWon['LFTA'].sum()\n",
    "    totalOppFTA += gamesLost['WFTA'].sum()\n",
    "    \n",
    "    #OR - offensive rebounds\n",
    "    totalOR = gamesWon['WOR'].sum()\n",
    "    totalOR += gamesLost['LOR'].sum()\n",
    "    \n",
    "    #OR - offensive rebounds (by opponent)\n",
    "    totalOppOR = gamesWon['LOR'].sum()\n",
    "    totalOppOR += gamesLost['WOR'].sum()\n",
    "    \n",
    "    #DR - defensive rebounds\n",
    "    totalDR = gamesWon['WDR'].sum()\n",
    "    totalDR += gamesLost['LDR'].sum()\n",
    "    \n",
    "    #DR - defensive rebounds (by opponent)\n",
    "    totalOppDR = gamesWon['LDR'].sum()\n",
    "    totalOppDR += gamesLost['WDR'].sum()\n",
    "    \n",
    "    #Ast - assists\n",
    "    totalAst = gamesWon['WAst'].sum()\n",
    "    totalAst += gamesLost['LAst'].sum()\n",
    "    \n",
    "    #Ast - assists (by opponent)\n",
    "    totalOppAst = gamesWon['LAst'].sum()\n",
    "    totalOppAst += gamesLost['WAst'].sum()\n",
    "    \n",
    "    #TO - turnovers committed\n",
    "    totalTO = gamesWon['WTO'].sum()\n",
    "    totalTO += gamesLost['LTO'].sum()\n",
    "    \n",
    "    #TO - turnovers committed (by opponent)\n",
    "    totalOppTO = gamesWon['LTO'].sum()\n",
    "    totalOppTO += gamesLost['WTO'].sum()\n",
    "    \n",
    "    #Stl - steals\n",
    "    totalStl = gamesWon['WStl'].sum()\n",
    "    totalStl += gamesLost['LStl'].sum()\n",
    "    \n",
    "    #Stl - steals (by opponent)\n",
    "    totalOppStl = gamesWon['LStl'].sum()\n",
    "    totalOppStl += gamesLost['WStl'].sum()\n",
    "    \n",
    "    #Blk - blocks\n",
    "    totalBlk = gamesWon['WBlk'].sum()\n",
    "    totalBlk += gamesLost['LBlk'].sum()\n",
    "    \n",
    "    #Blk - blocks (by opponent)\n",
    "    totalOppBlk = gamesWon['LBlk'].sum()\n",
    "    totalOppBlk += gamesLost['WBlk'].sum()\n",
    "    \n",
    "    #PF - personal fouls committed\n",
    "    totalPF = gamesWon['WPF'].sum()\n",
    "    totalPF += gamesLost['LPF'].sum()\n",
    "    \n",
    "    #PF - personal fouls committed (by opponent)\n",
    "    totalOppPF = gamesWon['LPF'].sum()\n",
    "    totalOppPF += gamesLost['WPF'].sum()\n",
    "    \n",
    "    #Finding tournament seed for that year\n",
    "    tourneyYear = df_tourneyseeds[df_tourneyseeds['Season'] == year]\n",
    "    seed = tourneyYear[tourneyYear['TeamID'] == team_id]\n",
    "    if (len(seed.index) != 0):\n",
    "        seed = seed.values[0][1]\n",
    "        tournamentSeed = int(seed[1:3])\n",
    "    else:\n",
    "        tournamentSeed = 25\n",
    "    \n",
    "    # Finding number of wins and losses\n",
    "    numWins = len(gamesWon.index)\n",
    "    \n",
    "    # Creating averages\n",
    "    if numGames == 0 or len(team_rating.index) == 0:\n",
    "        avgPoints = 0\n",
    "        avgPointsAllowed = 0    \n",
    "        avgFGM = 0\n",
    "        avgOppFGM = 0\n",
    "        avgFGA = 0\n",
    "        avgOppFGA = 0\n",
    "        avgFGM3 = 0\n",
    "        avgOppFGM3 = 0\n",
    "        avgFGA3 = 0\n",
    "        avgOppFGA3 = 0\n",
    "        avgFTM = 0\n",
    "        avgOppFTM = 0\n",
    "        avgFTA = 0\n",
    "        avgOppFTA = 0\n",
    "        avgOR = 0\n",
    "        avgOppOR = 0\n",
    "        avgDR = 0\n",
    "        avgOppDR = 0\n",
    "        avgAst = 0\n",
    "        avgOppAst = 0\n",
    "        avgTO = 0\n",
    "        avgOppTO = 0\n",
    "        avgStl = 0\n",
    "        avgOppStl = 0\n",
    "        avgBlk = 0\n",
    "        avgOppBlk = 0\n",
    "        avgPF = 0\n",
    "        avgOppPF = 0\n",
    "        tournamentSeed = 0\n",
    "        sos = 0\n",
    "        srs = 0\n",
    "        sag = 0\n",
    "        pom = 0\n",
    "    else:\n",
    "        avgPoints = totalPoints/numGames\n",
    "        avgPointsAllowed = totalPointsAllowed/numGames\n",
    "        avgFGM = totalFGM/numGames\n",
    "        avgOppFGM = totalOppFGM/numGames\n",
    "        avgFGA = totalFGA/numGames\n",
    "        avgOppFGA = totalOppFGA/numGames\n",
    "        avgFGM3 = totalFGM3/numGames\n",
    "        avgOppFGM3 = totalOppFGM3/numGames\n",
    "        avgFGA3 = totalFGA3/numGames\n",
    "        avgOppFGA3 = totalOppFGA3/numGames\n",
    "        avgFTM = totalFTM/numGames\n",
    "        avgOppFTM = totalOppFTM/numGames\n",
    "        avgFTA = totalFTA/numGames\n",
    "        avgOppFTA = totalOppFTA/numGames\n",
    "        avgOR = totalOR/numGames\n",
    "        avgOppOR = totalOppOR/numGames\n",
    "        avgDR = totalDR/numGames\n",
    "        avgOppDR = totalOppDR/numGames\n",
    "        avgAst = totalAst/numGames\n",
    "        avgOppAst = totalOppAst/numGames\n",
    "        avgTO = totalTO/numGames\n",
    "        avgOppTO = totalOppTO/numGames\n",
    "        avgStl = totalStl/numGames\n",
    "        avgOppStl = totalOppStl/numGames\n",
    "        avgBlk = totalBlk/numGames\n",
    "        avgOppBlk = totalOppBlk/numGames\n",
    "        avgPF = totalPF/numGames\n",
    "        avgOppPF = totalOppPF/numGames\n",
    "        sos = team['SOS'].values[0]\n",
    "        srs = team['SRS'].values[0]\n",
    "        \n",
    "        sag_ranks = df_ordinalyearteam[df_ordinalyearteam['SystemName']=='SAG']['OrdinalRank']\n",
    "        pom_ranks = df_ordinalyearteam[df_ordinalyearteam['SystemName']=='POM']['OrdinalRank']\n",
    "        \n",
    "        sag = np.average(sag_ranks[:]) \n",
    "        pom = np.average(pom_ranks[:])\n",
    "    \n",
    "    return [numWins, avgPoints, avgPointsAllowed, avgFGM, avgOppFGM, avgFGA, avgOppFGA, avgFGM3, avgOppFGM3, avgFGA3, avgOppFGA3,\n",
    "            avgFTM, avgOppFTM, avgFTA, avgOppFTA, avgOR, avgOppOR, avgDR, avgOppDR, avgAst, avgOppAst, avgTO, avgOppTO, avgStl,\n",
    "            avgOppStl, avgBlk, avgOppBlk, avgPF, avgOppPF, tournamentSeed, sos, srs, sag, pom]\n",
    "    "
   ]
  },
  {
   "cell_type": "code",
   "execution_count": 24,
   "metadata": {},
   "outputs": [],
   "source": [
    "def createSeasonDict(year):\n",
    "    teamList = df_teams['TeamName'].tolist()\n",
    "    seasonDictionary = collections.defaultdict(list)\n",
    "    for team in teamList:\n",
    "        team_id = df_teams[df_teams['TeamName'] == team].values[0][0]\n",
    "        team_vector = getSeasonData(team_id, year)\n",
    "        seasonDictionary[team_id] = team_vector\n",
    "    return seasonDictionary"
   ]
  },
  {
   "cell_type": "code",
   "execution_count": 25,
   "metadata": {},
   "outputs": [],
   "source": [
    "#Data2016 = createSeasonDict(2016)"
   ]
  },
  {
   "cell_type": "code",
   "execution_count": 26,
   "metadata": {},
   "outputs": [],
   "source": [
    "#Data2016"
   ]
  },
  {
   "cell_type": "code",
   "execution_count": 27,
   "metadata": {},
   "outputs": [],
   "source": [
    "def getHomeStat(row):\n",
    "    if (row == 'H'):\n",
    "        home = 1\n",
    "    if (row == 'A'):\n",
    "        home = -1\n",
    "    if (row == 'N'):\n",
    "        home = 0\n",
    "    return home"
   ]
  },
  {
   "cell_type": "code",
   "execution_count": 28,
   "metadata": {},
   "outputs": [],
   "source": [
    "def createTrainingSet(years):\n",
    "    totalNumGames = 0\n",
    "    for year in years:\n",
    "        season = df_seasoncompact[df_seasoncompact['Season'] == year]\n",
    "        totalNumGames += len(season.index)\n",
    "        tourney = df_tourneycompact[df_tourneycompact['Season'] == year]\n",
    "        totalNumGames += len(tourney.index)\n",
    "    numFeatures = len(getSeasonData(1246,2010))\n",
    "    xTrain=[]\n",
    "    yTrain=[]\n",
    "    indexCounter = 0\n",
    "    for year in years:\n",
    "        team_vectors = createSeasonDict(year)\n",
    "        season = df_seasoncompact[df_seasoncompact['Season'] == year]\n",
    "        numGamesInSeason = len(season.index)\n",
    "        tourney = df_tourneycompact[df_tourneycompact['Season'] == year]\n",
    "        numGamesInSeason += len(tourney.index)\n",
    "        xTrainSeason = []\n",
    "        yTrainSeason = []\n",
    "        counter = 0\n",
    "        for index, row in season.iterrows():\n",
    "            w_team = row['WTeamID']\n",
    "            w_vector = team_vectors[w_team]\n",
    "            if all([x == 0 for x in w_vector]):\n",
    "                continue\n",
    "            l_team = row['LTeamID']\n",
    "            l_vector = team_vectors[l_team]\n",
    "            diff = [a - b for a, b in zip(w_vector, l_vector)]\n",
    "            home = getHomeStat(row['WLoc'])\n",
    "            if (counter % 2 == 0):\n",
    "                diff.append(home) \n",
    "                xTrainSeason.append(diff)\n",
    "                yTrainSeason.append(1)\n",
    "            else:\n",
    "                diff.append(-home)\n",
    "                xTrainSeason.append([-p for p in diff])\n",
    "                yTrainSeason.append(0)\n",
    "            counter += 1\n",
    "        for index, row in tourney.iterrows():\n",
    "            w_team = row['WTeamID']\n",
    "            w_vector = team_vectors[w_team]\n",
    "            if all([x == 0 for x in w_vector]):\n",
    "                continue\n",
    "            l_team = row['LTeamID']\n",
    "            l_vector = team_vectors[l_team]\n",
    "            diff = [a - b for a, b in zip(w_vector, l_vector)]\n",
    "            home = 0 #All tournament games are neutral\n",
    "            if (counter % 2 == 0):\n",
    "                diff.append(home) \n",
    "                xTrainSeason.append(diff)\n",
    "                yTrainSeason.append(1)\n",
    "            else:\n",
    "                diff.append(-home)\n",
    "                xTrainSeason.append([-p for p in diff])\n",
    "                yTrainSeason.append(0)\n",
    "            counter += 1\n",
    "        xTrain[indexCounter:numGamesInSeason+indexCounter] = xTrainSeason\n",
    "        yTrain[indexCounter:numGamesInSeason+indexCounter] = yTrainSeason\n",
    "        indexCounter += numGamesInSeason\n",
    "    xTrain = np.array(xTrain)\n",
    "    yTrain = np.array(yTrain)\n",
    "    return xTrain, yTrain"
   ]
  },
  {
   "cell_type": "code",
   "execution_count": 29,
   "metadata": {},
   "outputs": [],
   "source": [
    "years = range(2003,2019)\n",
    "xTrain2, yTrain2 = createTrainingSet(years)\n",
    "#np.save('xTrain2018', xTrain)\n",
    "#np.save('yTrain2018', yTrain)"
   ]
  },
  {
   "cell_type": "code",
   "execution_count": 30,
   "metadata": {},
   "outputs": [
    {
     "data": {
      "text/plain": [
       "((83022, 35), (83022,))"
      ]
     },
     "execution_count": 30,
     "metadata": {},
     "output_type": "execute_result"
    }
   ],
   "source": [
    "xTrain2.shape, yTrain2.shape\n",
    "#test1 = pd.DataFrame(xTrain2018)\n",
    "#test1.head(100)"
   ]
  },
  {
   "cell_type": "code",
   "execution_count": 31,
   "metadata": {},
   "outputs": [],
   "source": [
    "#df_seasoncompact[df_seasoncompact['Season'] == 2018]"
   ]
  },
  {
   "cell_type": "markdown",
   "metadata": {},
   "source": [
    "## Prelim Model Work"
   ]
  },
  {
   "cell_type": "code",
   "execution_count": 85,
   "metadata": {},
   "outputs": [],
   "source": [
    "model4 = RandomForestClassifier(n_estimators=200)\n",
    "model2 = linear_model.BayesianRidge()\n",
    "model5 = AdaBoostClassifier(n_estimators=100)\n",
    "model = GradientBoostingRegressor(n_estimators=100)\n",
    "model3 = KNeighborsClassifier(n_neighbors=101)"
   ]
  },
  {
   "cell_type": "code",
   "execution_count": 86,
   "metadata": {},
   "outputs": [],
   "source": [
    "def showFeatureImportance(my_categories):\n",
    "    fx_imp = pd.Series(model.feature_importances_, index=my_categories)\n",
    "    fx_imp /= fx_imp.max()\n",
    "    fx_imp.sort()\n",
    "    fx_imp.plot(kind='barh')"
   ]
  },
  {
   "cell_type": "code",
   "execution_count": 87,
   "metadata": {},
   "outputs": [],
   "source": [
    "def showDependency(predictions, test, stat, my_categories):\n",
    "    difference = test[:,my_categories.index(stat)]\n",
    "    plt.scatter(difference, predictions)\n",
    "    plt.ylabel('Probability of Team 1 Win')\n",
    "    plt.xlabel(stat + ' Difference (Team 1 - Team 2)')\n",
    "    plt.show()"
   ]
  },
  {
   "cell_type": "code",
   "execution_count": 88,
   "metadata": {},
   "outputs": [
    {
     "name": "stdout",
     "output_type": "stream",
     "text": [
      "The accuracy is:  0.756648679899788\n"
     ]
    }
   ],
   "source": [
    "categories = ['numWins', 'avgPoints', 'avgPointsAllowed', 'avgFGM', 'avgOppFGM', 'avgFGA', 'avgOppFGA', 'avgFGM3', 'avgOppFGM3', 'avgFGA3', 'avgOppFGA3',\n",
    "            'avgFTM', 'avgOppFTM', 'avgFTA', 'avgOppFTA', 'avgOR', 'avgOppOR', 'avgDR', 'avgOppDR', 'avgAst', 'avgOppAst', 'avgTO', 'avgOppTO', 'avgStl',\n",
    "            'avgOppStl', 'avgBlk', 'avgOppBlk', 'avgPF', 'avgOppPF', 'tournamentSeed', 'sos', 'srs', 'sag', 'pom', 'location']\n",
    "accuracy=[]\n",
    "totals=[]\n",
    "for i in range(1):\n",
    "    X_train, X_test, Y_train, Y_test = train_test_split(xTrain2018, yTrain2018)\n",
    "    results1 = model.fit(X_train, Y_train)\n",
    "    preds1 = model.predict(X_test)\n",
    "    \n",
    "    results2 = model2.fit(X_train, Y_train)\n",
    "    preds2 = model2.predict(X_test)\n",
    "    \n",
    "    results3 = model3.fit(X_train, Y_train)\n",
    "    preds3 = model3.predict(X_test)\n",
    "\n",
    "    results4 = model4.fit(X_train, Y_train)\n",
    "    preds4 = model4.predict(X_test)\n",
    "    \n",
    "    results5 = model5.fit(X_train, Y_train)\n",
    "    preds5 = model5.predict(X_test)\n",
    "    \n",
    "    preds = (preds1 + preds2 + preds3 + preds4 + preds5)/5\n",
    "    totals.append(preds)\n",
    "    preds[preds < .5] = 0\n",
    "    preds[preds >= .5] = 1\n",
    "    accuracy.append(np.mean(preds == Y_test))\n",
    "    #accuracy.append(np.mean(predictions == Y_test))\n",
    "print(\"The accuracy is: \", sum(accuracy)/len(accuracy))"
   ]
  },
  {
   "cell_type": "code",
   "execution_count": 89,
   "metadata": {},
   "outputs": [
    {
     "name": "stderr",
     "output_type": "stream",
     "text": [
      "/home/aksan/anaconda3/lib/python3.5/site-packages/ipykernel/__main__.py:4: FutureWarning: sort is deprecated, use sort_values(inplace=True) for INPLACE sorting\n"
     ]
    },
    {
     "data": {
      "image/png": "[encoded data removed]",
      "text/plain": [
       "<matplotlib.figure.Figure at 0x7f54ca2b9e80>"
      ]
     },
     "metadata": {},
     "output_type": "display_data"
    }
   ],
   "source": [
    "showFeatureImportance(categories)"
   ]
  },
  {
   "cell_type": "code",
   "execution_count": 32,
   "metadata": {},
   "outputs": [
    {
     "name": "stdout",
     "output_type": "stream",
     "text": [
      "Best log_loss: -0.4747, with best num_estimators: 120 and best max_depth: 4\n"
     ]
    }
   ],
   "source": [
    "#X_train, X_test, Y_train, Y_test = train_test_split(xTrain2018, yTrain2018)\n",
    "\n",
    "gb = GradientBoostingClassifier()\n",
    "params = {'n_estimators': np.arange(10,150,10), 'max_depth': np.arange(1,5,1)}\n",
    "clf = GridSearchCV(gb, params, scoring='neg_log_loss', refit=True)\n",
    "clf.fit(xTrain2, yTrain2)\n",
    "print('Best log_loss: {:.4}, with best num_estimators: {} and best max_depth: {}'.format(clf.best_score_, clf.best_params_['n_estimators'], clf.best_params_['max_depth']))\n"
   ]
  },
  {
   "cell_type": "code",
   "execution_count": 94,
   "metadata": {},
   "outputs": [
    {
     "name": "stdout",
     "output_type": "stream",
     "text": [
      "Best log_loss: -0.4765, with best num_estimators: 70 and best max_depth: 4\n"
     ]
    }
   ],
   "source": [
    "#-.4751\n",
    "print('Best log_loss: {:.4}, with best num_estimators: {} and best max_depth: {}'.format(clf3.best_score_, clf3.best_params_['n_estimators'], clf3.best_params_['max_depth']))"
   ]
  },
  {
   "cell_type": "markdown",
   "metadata": {},
   "source": [
    "## Prediction for 2018 Submission"
   ]
  },
  {
   "cell_type": "code",
   "execution_count": 33,
   "metadata": {},
   "outputs": [],
   "source": [
    "def predictGame(team_1_vector, team_2_vector, home):\n",
    "    diff = [a - b for a, b in zip(team_1_vector, team_2_vector)]\n",
    "    diff.append(home)\n",
    "    #return model.predict([diff]) \n",
    "    return clf.predict_proba([diff])"
   ]
  },
  {
   "cell_type": "code",
   "execution_count": 34,
   "metadata": {},
   "outputs": [
    {
     "name": "stdout",
     "output_type": "stream",
     "text": [
      "Probability that North Carolina wins: [[0.51236715 0.48763285]]\n"
     ]
    },
    {
     "data": {
      "text/plain": [
       "array([[0.51236715, 0.48763285]])"
      ]
     },
     "execution_count": 34,
     "metadata": {},
     "output_type": "execute_result"
    }
   ],
   "source": [
    "# Test\n",
    "team1_name = 'North Carolina' #1314\n",
    "team2_name = 'Villanova' #1437\n",
    "team1_vector = getSeasonData(df_teams[df_teams['TeamName'] == team1_name].values[0][0], 2016)\n",
    "team2_vector = getSeasonData(df_teams[df_teams['TeamName'] == team2_name].values[0][0], 2016)\n",
    "print('Probability that ' + team1_name + ' wins:', predictGame(team1_vector, team2_vector, 0))\n",
    "#team1_vector\n",
    "#team2_vector\n",
    "diff = [a - b for a, b in zip(team1_vector, team2_vector)]\n",
    "diff\n",
    "diff.append(0)\n",
    "clf.predict_proba([diff])"
   ]
  },
  {
   "cell_type": "code",
   "execution_count": 35,
   "metadata": {},
   "outputs": [],
   "source": [
    "sample_sub_pd = pd.read_csv('SampleSubmissionStage2.csv')\n",
    "def createPrediction():\n",
    "    results = [[0 for x in range(2)] for x in range(len(sample_sub_pd.index))]\n",
    "    for index, row in sample_sub_pd.iterrows():\n",
    "        matchup_id = row['ID']\n",
    "        year = matchup_id[0:4]\n",
    "        team1_id = matchup_id[5:9]\n",
    "        team2_id = matchup_id[10:14]\n",
    "        team1_vector = getSeasonData(int(team1_id), int(year))\n",
    "        team2_vector = getSeasonData(int(team2_id), int(year))\n",
    "        pred = predictGame(team1_vector, team2_vector, 0)\n",
    "        results[index][0] = matchup_id\n",
    "        results[index][1] = np.clip(pred[0,1], 0.00000001, 0.999999999)\n",
    "        #results[index][1] = pred[0][1]\n",
    "    results = pd.np.array(results)\n",
    "    firstRow = [[0 for x in range(2)] for x in range(1)]\n",
    "    firstRow[0][0] = 'id'\n",
    "    firstRow[0][1] = 'pred'\n",
    "    with open(\"Stage2Result2.csv\", \"w\") as f:\n",
    "        writer = csv.writer(f)\n",
    "        writer.writerows(firstRow)\n",
    "        writer.writerows(results)"
   ]
  },
  {
   "cell_type": "code",
   "execution_count": 36,
   "metadata": {},
   "outputs": [],
   "source": [
    "createPrediction()"
   ]
  },
  {
   "cell_type": "code",
   "execution_count": 37,
   "metadata": {},
   "outputs": [],
   "source": [
    "from bracketeer import build_bracket\n",
    "b = build_bracket(\n",
    "        outputPath='bracket3.png', \n",
    "        teamsPath='DataFiles_2018/Teams.csv',\n",
    "        seedsPath='DataFiles_2018/NCAATourneySeeds.csv',\n",
    "        submissionPath='Stage2Result2.csv',\n",
    "        slotsPath='DataFiles_2018/NCAATourneySlots.csv',\n",
    "        year=2018\n",
    ")"
   ]
  },
  {
   "cell_type": "code",
   "execution_count": 102,
   "metadata": {},
   "outputs": [
    {
     "name": "stdout",
     "output_type": "stream",
     "text": [
      "Help on function build_bracket in module bracketeer:\n",
      "\n",
      "build_bracket(outputPath='output.png', teamsPath='data/Teams.csv', seedsPath='data/TourneySeeds.csv', slotsPath='data/TourneySlots.csv', submissionPath='data/submit.csv', year=2017)\n",
      "\n"
     ]
    }
   ],
   "source": [
    "help(build_bracket)"
   ]
  },
  {
   "cell_type": "code",
   "execution_count": null,
   "metadata": {},
   "outputs": [],
   "source": []
  }
 ],
 "metadata": {
  "kernelspec": {
   "display_name": "Python 3",
   "language": "python",
   "name": "python3"
  },
  "language_info": {
   "codemirror_mode": {
    "name": "ipython",
    "version": 3
   },
   "file_extension": ".py",
   "mimetype": "text/x-python",
   "name": "python",
   "nbconvert_exporter": "python",
   "pygments_lexer": "ipython3",
   "version": "3.5.2"
  }
 },
 "nbformat": 4,
 "nbformat_minor": 2
}
